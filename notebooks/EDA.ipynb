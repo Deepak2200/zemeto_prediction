{
 "cells": [
  {
   "cell_type": "code",
   "execution_count": 1,
   "metadata": {},
   "outputs": [],
   "source": [
    "import pandas as pd"
   ]
  },
  {
   "cell_type": "code",
   "execution_count": 2,
   "metadata": {},
   "outputs": [],
   "source": [
    "df=pd.read_csv(\"task_data.csv\")"
   ]
  },
  {
   "cell_type": "code",
   "execution_count": 3,
   "metadata": {},
   "outputs": [
    {
     "data": {
      "text/html": [
       "<div>\n",
       "<style scoped>\n",
       "    .dataframe tbody tr th:only-of-type {\n",
       "        vertical-align: middle;\n",
       "    }\n",
       "\n",
       "    .dataframe tbody tr th {\n",
       "        vertical-align: top;\n",
       "    }\n",
       "\n",
       "    .dataframe thead th {\n",
       "        text-align: right;\n",
       "    }\n",
       "</style>\n",
       "<table border=\"1\" class=\"dataframe\">\n",
       "  <thead>\n",
       "    <tr style=\"text-align: right;\">\n",
       "      <th></th>\n",
       "      <th>ID</th>\n",
       "      <th>Delivery_person_ID</th>\n",
       "      <th>Delivery_person_Age</th>\n",
       "      <th>Delivery_person_Ratings</th>\n",
       "      <th>Restaurant_latitude</th>\n",
       "      <th>Restaurant_longitude</th>\n",
       "      <th>Delivery_location_latitude</th>\n",
       "      <th>Delivery_location_longitude</th>\n",
       "      <th>Order_Date</th>\n",
       "      <th>Time_Orderd</th>\n",
       "      <th>Time_Order_picked</th>\n",
       "      <th>Weather_conditions</th>\n",
       "      <th>Road_traffic_density</th>\n",
       "      <th>Vehicle_condition</th>\n",
       "      <th>Type_of_order</th>\n",
       "      <th>Type_of_vehicle</th>\n",
       "      <th>multiple_deliveries</th>\n",
       "      <th>Festival</th>\n",
       "      <th>City</th>\n",
       "      <th>Time_taken (min)</th>\n",
       "    </tr>\n",
       "  </thead>\n",
       "  <tbody>\n",
       "    <tr>\n",
       "      <th>0</th>\n",
       "      <td>0xcdcd</td>\n",
       "      <td>DEHRES17DEL01</td>\n",
       "      <td>36.0</td>\n",
       "      <td>4.2</td>\n",
       "      <td>30.327968</td>\n",
       "      <td>78.046106</td>\n",
       "      <td>30.397968</td>\n",
       "      <td>78.116106</td>\n",
       "      <td>12-02-2022</td>\n",
       "      <td>21:55</td>\n",
       "      <td>22:10</td>\n",
       "      <td>Fog</td>\n",
       "      <td>Jam</td>\n",
       "      <td>2</td>\n",
       "      <td>Snack</td>\n",
       "      <td>motorcycle</td>\n",
       "      <td>3.0</td>\n",
       "      <td>No</td>\n",
       "      <td>Metropolitian</td>\n",
       "      <td>46</td>\n",
       "    </tr>\n",
       "    <tr>\n",
       "      <th>1</th>\n",
       "      <td>0xd987</td>\n",
       "      <td>KOCRES16DEL01</td>\n",
       "      <td>21.0</td>\n",
       "      <td>4.7</td>\n",
       "      <td>10.003064</td>\n",
       "      <td>76.307589</td>\n",
       "      <td>10.043064</td>\n",
       "      <td>76.347589</td>\n",
       "      <td>13-02-2022</td>\n",
       "      <td>14:55</td>\n",
       "      <td>15:05</td>\n",
       "      <td>Stormy</td>\n",
       "      <td>High</td>\n",
       "      <td>1</td>\n",
       "      <td>Meal</td>\n",
       "      <td>motorcycle</td>\n",
       "      <td>1.0</td>\n",
       "      <td>No</td>\n",
       "      <td>Metropolitian</td>\n",
       "      <td>23</td>\n",
       "    </tr>\n",
       "    <tr>\n",
       "      <th>2</th>\n",
       "      <td>0x2784</td>\n",
       "      <td>PUNERES13DEL03</td>\n",
       "      <td>23.0</td>\n",
       "      <td>4.7</td>\n",
       "      <td>18.562450</td>\n",
       "      <td>73.916619</td>\n",
       "      <td>18.652450</td>\n",
       "      <td>74.006619</td>\n",
       "      <td>04-03-2022</td>\n",
       "      <td>17:30</td>\n",
       "      <td>17:40</td>\n",
       "      <td>Sandstorms</td>\n",
       "      <td>Medium</td>\n",
       "      <td>1</td>\n",
       "      <td>Drinks</td>\n",
       "      <td>scooter</td>\n",
       "      <td>1.0</td>\n",
       "      <td>No</td>\n",
       "      <td>Metropolitian</td>\n",
       "      <td>21</td>\n",
       "    </tr>\n",
       "    <tr>\n",
       "      <th>3</th>\n",
       "      <td>0xc8b6</td>\n",
       "      <td>LUDHRES15DEL02</td>\n",
       "      <td>34.0</td>\n",
       "      <td>4.3</td>\n",
       "      <td>30.899584</td>\n",
       "      <td>75.809346</td>\n",
       "      <td>30.919584</td>\n",
       "      <td>75.829346</td>\n",
       "      <td>13-02-2022</td>\n",
       "      <td>09:20</td>\n",
       "      <td>09:30</td>\n",
       "      <td>Sandstorms</td>\n",
       "      <td>Low</td>\n",
       "      <td>0</td>\n",
       "      <td>Buffet</td>\n",
       "      <td>motorcycle</td>\n",
       "      <td>0.0</td>\n",
       "      <td>No</td>\n",
       "      <td>Metropolitian</td>\n",
       "      <td>20</td>\n",
       "    </tr>\n",
       "    <tr>\n",
       "      <th>4</th>\n",
       "      <td>0xdb64</td>\n",
       "      <td>KNPRES14DEL02</td>\n",
       "      <td>24.0</td>\n",
       "      <td>4.7</td>\n",
       "      <td>26.463504</td>\n",
       "      <td>80.372929</td>\n",
       "      <td>26.593504</td>\n",
       "      <td>80.502929</td>\n",
       "      <td>14-02-2022</td>\n",
       "      <td>19:50</td>\n",
       "      <td>20:05</td>\n",
       "      <td>Fog</td>\n",
       "      <td>Jam</td>\n",
       "      <td>1</td>\n",
       "      <td>Snack</td>\n",
       "      <td>scooter</td>\n",
       "      <td>1.0</td>\n",
       "      <td>No</td>\n",
       "      <td>Metropolitian</td>\n",
       "      <td>41</td>\n",
       "    </tr>\n",
       "    <tr>\n",
       "      <th>...</th>\n",
       "      <td>...</td>\n",
       "      <td>...</td>\n",
       "      <td>...</td>\n",
       "      <td>...</td>\n",
       "      <td>...</td>\n",
       "      <td>...</td>\n",
       "      <td>...</td>\n",
       "      <td>...</td>\n",
       "      <td>...</td>\n",
       "      <td>...</td>\n",
       "      <td>...</td>\n",
       "      <td>...</td>\n",
       "      <td>...</td>\n",
       "      <td>...</td>\n",
       "      <td>...</td>\n",
       "      <td>...</td>\n",
       "      <td>...</td>\n",
       "      <td>...</td>\n",
       "      <td>...</td>\n",
       "      <td>...</td>\n",
       "    </tr>\n",
       "    <tr>\n",
       "      <th>45579</th>\n",
       "      <td>0x7c09</td>\n",
       "      <td>JAPRES04DEL01</td>\n",
       "      <td>30.0</td>\n",
       "      <td>4.8</td>\n",
       "      <td>26.902328</td>\n",
       "      <td>75.794257</td>\n",
       "      <td>26.912328</td>\n",
       "      <td>75.804257</td>\n",
       "      <td>24-03-2022</td>\n",
       "      <td>11:35</td>\n",
       "      <td>11:45</td>\n",
       "      <td>Windy</td>\n",
       "      <td>High</td>\n",
       "      <td>1</td>\n",
       "      <td>Meal</td>\n",
       "      <td>motorcycle</td>\n",
       "      <td>0.0</td>\n",
       "      <td>No</td>\n",
       "      <td>Metropolitian</td>\n",
       "      <td>32</td>\n",
       "    </tr>\n",
       "    <tr>\n",
       "      <th>45580</th>\n",
       "      <td>0xd641</td>\n",
       "      <td>AGRRES16DEL01</td>\n",
       "      <td>21.0</td>\n",
       "      <td>4.6</td>\n",
       "      <td>0.000000</td>\n",
       "      <td>0.000000</td>\n",
       "      <td>0.070000</td>\n",
       "      <td>0.070000</td>\n",
       "      <td>16-02-2022</td>\n",
       "      <td>19:55</td>\n",
       "      <td>20:10</td>\n",
       "      <td>Windy</td>\n",
       "      <td>Jam</td>\n",
       "      <td>0</td>\n",
       "      <td>Buffet</td>\n",
       "      <td>motorcycle</td>\n",
       "      <td>1.0</td>\n",
       "      <td>No</td>\n",
       "      <td>Metropolitian</td>\n",
       "      <td>36</td>\n",
       "    </tr>\n",
       "    <tr>\n",
       "      <th>45581</th>\n",
       "      <td>0x4f8d</td>\n",
       "      <td>CHENRES08DEL03</td>\n",
       "      <td>30.0</td>\n",
       "      <td>4.9</td>\n",
       "      <td>13.022394</td>\n",
       "      <td>80.242439</td>\n",
       "      <td>13.052394</td>\n",
       "      <td>80.272439</td>\n",
       "      <td>11-03-2022</td>\n",
       "      <td>23:50</td>\n",
       "      <td>24:05:00</td>\n",
       "      <td>Cloudy</td>\n",
       "      <td>Low</td>\n",
       "      <td>1</td>\n",
       "      <td>Drinks</td>\n",
       "      <td>scooter</td>\n",
       "      <td>0.0</td>\n",
       "      <td>No</td>\n",
       "      <td>Metropolitian</td>\n",
       "      <td>16</td>\n",
       "    </tr>\n",
       "    <tr>\n",
       "      <th>45582</th>\n",
       "      <td>0x5eee</td>\n",
       "      <td>COIMBRES11DEL01</td>\n",
       "      <td>20.0</td>\n",
       "      <td>4.7</td>\n",
       "      <td>11.001753</td>\n",
       "      <td>76.986241</td>\n",
       "      <td>11.041753</td>\n",
       "      <td>77.026241</td>\n",
       "      <td>07-03-2022</td>\n",
       "      <td>13:35</td>\n",
       "      <td>13:40</td>\n",
       "      <td>Cloudy</td>\n",
       "      <td>High</td>\n",
       "      <td>0</td>\n",
       "      <td>Snack</td>\n",
       "      <td>motorcycle</td>\n",
       "      <td>1.0</td>\n",
       "      <td>No</td>\n",
       "      <td>Metropolitian</td>\n",
       "      <td>26</td>\n",
       "    </tr>\n",
       "    <tr>\n",
       "      <th>45583</th>\n",
       "      <td>0x5fb2</td>\n",
       "      <td>RANCHIRES09DEL02</td>\n",
       "      <td>23.0</td>\n",
       "      <td>4.9</td>\n",
       "      <td>23.351058</td>\n",
       "      <td>85.325731</td>\n",
       "      <td>23.431058</td>\n",
       "      <td>85.405731</td>\n",
       "      <td>02-03-2022</td>\n",
       "      <td>17:10</td>\n",
       "      <td>17:15</td>\n",
       "      <td>Fog</td>\n",
       "      <td>Medium</td>\n",
       "      <td>2</td>\n",
       "      <td>Snack</td>\n",
       "      <td>scooter</td>\n",
       "      <td>1.0</td>\n",
       "      <td>No</td>\n",
       "      <td>Metropolitian</td>\n",
       "      <td>36</td>\n",
       "    </tr>\n",
       "  </tbody>\n",
       "</table>\n",
       "<p>45584 rows × 20 columns</p>\n",
       "</div>"
      ],
      "text/plain": [
       "           ID Delivery_person_ID  Delivery_person_Age   \n",
       "0      0xcdcd      DEHRES17DEL01                 36.0  \\\n",
       "1      0xd987      KOCRES16DEL01                 21.0   \n",
       "2      0x2784     PUNERES13DEL03                 23.0   \n",
       "3      0xc8b6     LUDHRES15DEL02                 34.0   \n",
       "4      0xdb64      KNPRES14DEL02                 24.0   \n",
       "...       ...                ...                  ...   \n",
       "45579  0x7c09      JAPRES04DEL01                 30.0   \n",
       "45580  0xd641      AGRRES16DEL01                 21.0   \n",
       "45581  0x4f8d     CHENRES08DEL03                 30.0   \n",
       "45582  0x5eee    COIMBRES11DEL01                 20.0   \n",
       "45583  0x5fb2   RANCHIRES09DEL02                 23.0   \n",
       "\n",
       "       Delivery_person_Ratings  Restaurant_latitude  Restaurant_longitude   \n",
       "0                          4.2            30.327968             78.046106  \\\n",
       "1                          4.7            10.003064             76.307589   \n",
       "2                          4.7            18.562450             73.916619   \n",
       "3                          4.3            30.899584             75.809346   \n",
       "4                          4.7            26.463504             80.372929   \n",
       "...                        ...                  ...                   ...   \n",
       "45579                      4.8            26.902328             75.794257   \n",
       "45580                      4.6             0.000000              0.000000   \n",
       "45581                      4.9            13.022394             80.242439   \n",
       "45582                      4.7            11.001753             76.986241   \n",
       "45583                      4.9            23.351058             85.325731   \n",
       "\n",
       "       Delivery_location_latitude  Delivery_location_longitude  Order_Date   \n",
       "0                       30.397968                    78.116106  12-02-2022  \\\n",
       "1                       10.043064                    76.347589  13-02-2022   \n",
       "2                       18.652450                    74.006619  04-03-2022   \n",
       "3                       30.919584                    75.829346  13-02-2022   \n",
       "4                       26.593504                    80.502929  14-02-2022   \n",
       "...                           ...                          ...         ...   \n",
       "45579                   26.912328                    75.804257  24-03-2022   \n",
       "45580                    0.070000                     0.070000  16-02-2022   \n",
       "45581                   13.052394                    80.272439  11-03-2022   \n",
       "45582                   11.041753                    77.026241  07-03-2022   \n",
       "45583                   23.431058                    85.405731  02-03-2022   \n",
       "\n",
       "      Time_Orderd Time_Order_picked Weather_conditions Road_traffic_density   \n",
       "0           21:55             22:10                Fog                  Jam  \\\n",
       "1           14:55             15:05             Stormy                 High   \n",
       "2           17:30             17:40         Sandstorms               Medium   \n",
       "3           09:20             09:30         Sandstorms                  Low   \n",
       "4           19:50             20:05                Fog                  Jam   \n",
       "...           ...               ...                ...                  ...   \n",
       "45579       11:35             11:45              Windy                 High   \n",
       "45580       19:55             20:10              Windy                  Jam   \n",
       "45581       23:50          24:05:00             Cloudy                  Low   \n",
       "45582       13:35             13:40             Cloudy                 High   \n",
       "45583       17:10             17:15                Fog               Medium   \n",
       "\n",
       "       Vehicle_condition Type_of_order Type_of_vehicle  multiple_deliveries   \n",
       "0                      2         Snack      motorcycle                  3.0  \\\n",
       "1                      1          Meal      motorcycle                  1.0   \n",
       "2                      1        Drinks         scooter                  1.0   \n",
       "3                      0        Buffet      motorcycle                  0.0   \n",
       "4                      1         Snack         scooter                  1.0   \n",
       "...                  ...           ...             ...                  ...   \n",
       "45579                  1          Meal      motorcycle                  0.0   \n",
       "45580                  0        Buffet      motorcycle                  1.0   \n",
       "45581                  1        Drinks         scooter                  0.0   \n",
       "45582                  0         Snack      motorcycle                  1.0   \n",
       "45583                  2         Snack         scooter                  1.0   \n",
       "\n",
       "      Festival           City  Time_taken (min)  \n",
       "0           No  Metropolitian                46  \n",
       "1           No  Metropolitian                23  \n",
       "2           No  Metropolitian                21  \n",
       "3           No  Metropolitian                20  \n",
       "4           No  Metropolitian                41  \n",
       "...        ...            ...               ...  \n",
       "45579       No  Metropolitian                32  \n",
       "45580       No  Metropolitian                36  \n",
       "45581       No  Metropolitian                16  \n",
       "45582       No  Metropolitian                26  \n",
       "45583       No  Metropolitian                36  \n",
       "\n",
       "[45584 rows x 20 columns]"
      ]
     },
     "execution_count": 3,
     "metadata": {},
     "output_type": "execute_result"
    }
   ],
   "source": [
    "df"
   ]
  },
  {
   "cell_type": "code",
   "execution_count": 4,
   "metadata": {},
   "outputs": [],
   "source": [
    "# we have a zomato data .we need need to predict time "
   ]
  },
  {
   "cell_type": "code",
   "execution_count": 5,
   "metadata": {},
   "outputs": [
    {
     "name": "stdout",
     "output_type": "stream",
     "text": [
      "<class 'pandas.core.frame.DataFrame'>\n",
      "RangeIndex: 45584 entries, 0 to 45583\n",
      "Data columns (total 20 columns):\n",
      " #   Column                       Non-Null Count  Dtype  \n",
      "---  ------                       --------------  -----  \n",
      " 0   ID                           45584 non-null  object \n",
      " 1   Delivery_person_ID           45584 non-null  object \n",
      " 2   Delivery_person_Age          43730 non-null  float64\n",
      " 3   Delivery_person_Ratings      43676 non-null  float64\n",
      " 4   Restaurant_latitude          45584 non-null  float64\n",
      " 5   Restaurant_longitude         45584 non-null  float64\n",
      " 6   Delivery_location_latitude   45584 non-null  float64\n",
      " 7   Delivery_location_longitude  45584 non-null  float64\n",
      " 8   Order_Date                   45584 non-null  object \n",
      " 9   Time_Orderd                  43853 non-null  object \n",
      " 10  Time_Order_picked            45584 non-null  object \n",
      " 11  Weather_conditions           44968 non-null  object \n",
      " 12  Road_traffic_density         44983 non-null  object \n",
      " 13  Vehicle_condition            45584 non-null  int64  \n",
      " 14  Type_of_order                45584 non-null  object \n",
      " 15  Type_of_vehicle              45584 non-null  object \n",
      " 16  multiple_deliveries          44591 non-null  float64\n",
      " 17  Festival                     45356 non-null  object \n",
      " 18  City                         44384 non-null  object \n",
      " 19  Time_taken (min)             45584 non-null  int64  \n",
      "dtypes: float64(7), int64(2), object(11)\n",
      "memory usage: 7.0+ MB\n"
     ]
    }
   ],
   "source": [
    "df.info()"
   ]
  },
  {
   "cell_type": "code",
   "execution_count": 6,
   "metadata": {},
   "outputs": [],
   "source": [
    "# i drop \"ID\" column bcoz it is not usebal\n",
    "df.drop(labels=[\"ID\"],axis=1,inplace=True)"
   ]
  },
  {
   "cell_type": "code",
   "execution_count": 7,
   "metadata": {},
   "outputs": [
    {
     "data": {
      "text/html": [
       "<div>\n",
       "<style scoped>\n",
       "    .dataframe tbody tr th:only-of-type {\n",
       "        vertical-align: middle;\n",
       "    }\n",
       "\n",
       "    .dataframe tbody tr th {\n",
       "        vertical-align: top;\n",
       "    }\n",
       "\n",
       "    .dataframe thead th {\n",
       "        text-align: right;\n",
       "    }\n",
       "</style>\n",
       "<table border=\"1\" class=\"dataframe\">\n",
       "  <thead>\n",
       "    <tr style=\"text-align: right;\">\n",
       "      <th></th>\n",
       "      <th>Delivery_person_ID</th>\n",
       "      <th>Delivery_person_Age</th>\n",
       "      <th>Delivery_person_Ratings</th>\n",
       "      <th>Restaurant_latitude</th>\n",
       "      <th>Restaurant_longitude</th>\n",
       "      <th>Delivery_location_latitude</th>\n",
       "      <th>Delivery_location_longitude</th>\n",
       "      <th>Order_Date</th>\n",
       "      <th>Time_Orderd</th>\n",
       "      <th>Time_Order_picked</th>\n",
       "      <th>Weather_conditions</th>\n",
       "      <th>Road_traffic_density</th>\n",
       "      <th>Vehicle_condition</th>\n",
       "      <th>Type_of_order</th>\n",
       "      <th>Type_of_vehicle</th>\n",
       "      <th>multiple_deliveries</th>\n",
       "      <th>Festival</th>\n",
       "      <th>City</th>\n",
       "      <th>Time_taken (min)</th>\n",
       "    </tr>\n",
       "  </thead>\n",
       "  <tbody>\n",
       "    <tr>\n",
       "      <th>0</th>\n",
       "      <td>DEHRES17DEL01</td>\n",
       "      <td>36.0</td>\n",
       "      <td>4.2</td>\n",
       "      <td>30.327968</td>\n",
       "      <td>78.046106</td>\n",
       "      <td>30.397968</td>\n",
       "      <td>78.116106</td>\n",
       "      <td>12-02-2022</td>\n",
       "      <td>21:55</td>\n",
       "      <td>22:10</td>\n",
       "      <td>Fog</td>\n",
       "      <td>Jam</td>\n",
       "      <td>2</td>\n",
       "      <td>Snack</td>\n",
       "      <td>motorcycle</td>\n",
       "      <td>3.0</td>\n",
       "      <td>No</td>\n",
       "      <td>Metropolitian</td>\n",
       "      <td>46</td>\n",
       "    </tr>\n",
       "    <tr>\n",
       "      <th>1</th>\n",
       "      <td>KOCRES16DEL01</td>\n",
       "      <td>21.0</td>\n",
       "      <td>4.7</td>\n",
       "      <td>10.003064</td>\n",
       "      <td>76.307589</td>\n",
       "      <td>10.043064</td>\n",
       "      <td>76.347589</td>\n",
       "      <td>13-02-2022</td>\n",
       "      <td>14:55</td>\n",
       "      <td>15:05</td>\n",
       "      <td>Stormy</td>\n",
       "      <td>High</td>\n",
       "      <td>1</td>\n",
       "      <td>Meal</td>\n",
       "      <td>motorcycle</td>\n",
       "      <td>1.0</td>\n",
       "      <td>No</td>\n",
       "      <td>Metropolitian</td>\n",
       "      <td>23</td>\n",
       "    </tr>\n",
       "    <tr>\n",
       "      <th>2</th>\n",
       "      <td>PUNERES13DEL03</td>\n",
       "      <td>23.0</td>\n",
       "      <td>4.7</td>\n",
       "      <td>18.562450</td>\n",
       "      <td>73.916619</td>\n",
       "      <td>18.652450</td>\n",
       "      <td>74.006619</td>\n",
       "      <td>04-03-2022</td>\n",
       "      <td>17:30</td>\n",
       "      <td>17:40</td>\n",
       "      <td>Sandstorms</td>\n",
       "      <td>Medium</td>\n",
       "      <td>1</td>\n",
       "      <td>Drinks</td>\n",
       "      <td>scooter</td>\n",
       "      <td>1.0</td>\n",
       "      <td>No</td>\n",
       "      <td>Metropolitian</td>\n",
       "      <td>21</td>\n",
       "    </tr>\n",
       "    <tr>\n",
       "      <th>3</th>\n",
       "      <td>LUDHRES15DEL02</td>\n",
       "      <td>34.0</td>\n",
       "      <td>4.3</td>\n",
       "      <td>30.899584</td>\n",
       "      <td>75.809346</td>\n",
       "      <td>30.919584</td>\n",
       "      <td>75.829346</td>\n",
       "      <td>13-02-2022</td>\n",
       "      <td>09:20</td>\n",
       "      <td>09:30</td>\n",
       "      <td>Sandstorms</td>\n",
       "      <td>Low</td>\n",
       "      <td>0</td>\n",
       "      <td>Buffet</td>\n",
       "      <td>motorcycle</td>\n",
       "      <td>0.0</td>\n",
       "      <td>No</td>\n",
       "      <td>Metropolitian</td>\n",
       "      <td>20</td>\n",
       "    </tr>\n",
       "    <tr>\n",
       "      <th>4</th>\n",
       "      <td>KNPRES14DEL02</td>\n",
       "      <td>24.0</td>\n",
       "      <td>4.7</td>\n",
       "      <td>26.463504</td>\n",
       "      <td>80.372929</td>\n",
       "      <td>26.593504</td>\n",
       "      <td>80.502929</td>\n",
       "      <td>14-02-2022</td>\n",
       "      <td>19:50</td>\n",
       "      <td>20:05</td>\n",
       "      <td>Fog</td>\n",
       "      <td>Jam</td>\n",
       "      <td>1</td>\n",
       "      <td>Snack</td>\n",
       "      <td>scooter</td>\n",
       "      <td>1.0</td>\n",
       "      <td>No</td>\n",
       "      <td>Metropolitian</td>\n",
       "      <td>41</td>\n",
       "    </tr>\n",
       "  </tbody>\n",
       "</table>\n",
       "</div>"
      ],
      "text/plain": [
       "  Delivery_person_ID  Delivery_person_Age  Delivery_person_Ratings   \n",
       "0      DEHRES17DEL01                 36.0                      4.2  \\\n",
       "1      KOCRES16DEL01                 21.0                      4.7   \n",
       "2     PUNERES13DEL03                 23.0                      4.7   \n",
       "3     LUDHRES15DEL02                 34.0                      4.3   \n",
       "4      KNPRES14DEL02                 24.0                      4.7   \n",
       "\n",
       "   Restaurant_latitude  Restaurant_longitude  Delivery_location_latitude   \n",
       "0            30.327968             78.046106                   30.397968  \\\n",
       "1            10.003064             76.307589                   10.043064   \n",
       "2            18.562450             73.916619                   18.652450   \n",
       "3            30.899584             75.809346                   30.919584   \n",
       "4            26.463504             80.372929                   26.593504   \n",
       "\n",
       "   Delivery_location_longitude  Order_Date Time_Orderd Time_Order_picked   \n",
       "0                    78.116106  12-02-2022       21:55             22:10  \\\n",
       "1                    76.347589  13-02-2022       14:55             15:05   \n",
       "2                    74.006619  04-03-2022       17:30             17:40   \n",
       "3                    75.829346  13-02-2022       09:20             09:30   \n",
       "4                    80.502929  14-02-2022       19:50             20:05   \n",
       "\n",
       "  Weather_conditions Road_traffic_density  Vehicle_condition Type_of_order   \n",
       "0                Fog                  Jam                  2         Snack  \\\n",
       "1             Stormy                 High                  1          Meal   \n",
       "2         Sandstorms               Medium                  1        Drinks   \n",
       "3         Sandstorms                  Low                  0        Buffet   \n",
       "4                Fog                  Jam                  1         Snack   \n",
       "\n",
       "  Type_of_vehicle  multiple_deliveries Festival           City   \n",
       "0      motorcycle                  3.0       No  Metropolitian  \\\n",
       "1      motorcycle                  1.0       No  Metropolitian   \n",
       "2         scooter                  1.0       No  Metropolitian   \n",
       "3      motorcycle                  0.0       No  Metropolitian   \n",
       "4         scooter                  1.0       No  Metropolitian   \n",
       "\n",
       "   Time_taken (min)  \n",
       "0                46  \n",
       "1                23  \n",
       "2                21  \n",
       "3                20  \n",
       "4                41  "
      ]
     },
     "execution_count": 7,
     "metadata": {},
     "output_type": "execute_result"
    }
   ],
   "source": [
    "df.head()"
   ]
  },
  {
   "cell_type": "code",
   "execution_count": 8,
   "metadata": {},
   "outputs": [
    {
     "data": {
      "text/html": [
       "<div>\n",
       "<style scoped>\n",
       "    .dataframe tbody tr th:only-of-type {\n",
       "        vertical-align: middle;\n",
       "    }\n",
       "\n",
       "    .dataframe tbody tr th {\n",
       "        vertical-align: top;\n",
       "    }\n",
       "\n",
       "    .dataframe thead th {\n",
       "        text-align: right;\n",
       "    }\n",
       "</style>\n",
       "<table border=\"1\" class=\"dataframe\">\n",
       "  <thead>\n",
       "    <tr style=\"text-align: right;\">\n",
       "      <th></th>\n",
       "      <th>Delivery_person_Age</th>\n",
       "      <th>Delivery_person_Ratings</th>\n",
       "      <th>Restaurant_latitude</th>\n",
       "      <th>Restaurant_longitude</th>\n",
       "      <th>Delivery_location_latitude</th>\n",
       "      <th>Delivery_location_longitude</th>\n",
       "      <th>Vehicle_condition</th>\n",
       "      <th>multiple_deliveries</th>\n",
       "      <th>Time_taken (min)</th>\n",
       "    </tr>\n",
       "  </thead>\n",
       "  <tbody>\n",
       "    <tr>\n",
       "      <th>count</th>\n",
       "      <td>43730.000000</td>\n",
       "      <td>43676.000000</td>\n",
       "      <td>45584.000000</td>\n",
       "      <td>45584.000000</td>\n",
       "      <td>45584.000000</td>\n",
       "      <td>45584.000000</td>\n",
       "      <td>45584.000000</td>\n",
       "      <td>44591.000000</td>\n",
       "      <td>45584.000000</td>\n",
       "    </tr>\n",
       "    <tr>\n",
       "      <th>mean</th>\n",
       "      <td>29.566911</td>\n",
       "      <td>4.633774</td>\n",
       "      <td>17.017948</td>\n",
       "      <td>70.229684</td>\n",
       "      <td>17.465480</td>\n",
       "      <td>70.844161</td>\n",
       "      <td>1.023385</td>\n",
       "      <td>0.744635</td>\n",
       "      <td>26.293963</td>\n",
       "    </tr>\n",
       "    <tr>\n",
       "      <th>std</th>\n",
       "      <td>5.815064</td>\n",
       "      <td>0.334744</td>\n",
       "      <td>8.185674</td>\n",
       "      <td>22.885575</td>\n",
       "      <td>7.335562</td>\n",
       "      <td>21.120578</td>\n",
       "      <td>0.839055</td>\n",
       "      <td>0.572510</td>\n",
       "      <td>9.384298</td>\n",
       "    </tr>\n",
       "    <tr>\n",
       "      <th>min</th>\n",
       "      <td>15.000000</td>\n",
       "      <td>1.000000</td>\n",
       "      <td>-30.905562</td>\n",
       "      <td>-88.366217</td>\n",
       "      <td>0.010000</td>\n",
       "      <td>0.010000</td>\n",
       "      <td>0.000000</td>\n",
       "      <td>0.000000</td>\n",
       "      <td>10.000000</td>\n",
       "    </tr>\n",
       "    <tr>\n",
       "      <th>25%</th>\n",
       "      <td>25.000000</td>\n",
       "      <td>4.500000</td>\n",
       "      <td>12.933284</td>\n",
       "      <td>73.170000</td>\n",
       "      <td>12.988453</td>\n",
       "      <td>73.280000</td>\n",
       "      <td>0.000000</td>\n",
       "      <td>0.000000</td>\n",
       "      <td>19.000000</td>\n",
       "    </tr>\n",
       "    <tr>\n",
       "      <th>50%</th>\n",
       "      <td>30.000000</td>\n",
       "      <td>4.700000</td>\n",
       "      <td>18.551440</td>\n",
       "      <td>75.897963</td>\n",
       "      <td>18.633934</td>\n",
       "      <td>76.002574</td>\n",
       "      <td>1.000000</td>\n",
       "      <td>1.000000</td>\n",
       "      <td>26.000000</td>\n",
       "    </tr>\n",
       "    <tr>\n",
       "      <th>75%</th>\n",
       "      <td>35.000000</td>\n",
       "      <td>4.900000</td>\n",
       "      <td>22.728163</td>\n",
       "      <td>78.044095</td>\n",
       "      <td>22.785049</td>\n",
       "      <td>78.107044</td>\n",
       "      <td>2.000000</td>\n",
       "      <td>1.000000</td>\n",
       "      <td>32.000000</td>\n",
       "    </tr>\n",
       "    <tr>\n",
       "      <th>max</th>\n",
       "      <td>50.000000</td>\n",
       "      <td>6.000000</td>\n",
       "      <td>30.914057</td>\n",
       "      <td>88.433452</td>\n",
       "      <td>31.054057</td>\n",
       "      <td>88.563452</td>\n",
       "      <td>3.000000</td>\n",
       "      <td>3.000000</td>\n",
       "      <td>54.000000</td>\n",
       "    </tr>\n",
       "  </tbody>\n",
       "</table>\n",
       "</div>"
      ],
      "text/plain": [
       "       Delivery_person_Age  Delivery_person_Ratings  Restaurant_latitude   \n",
       "count         43730.000000             43676.000000         45584.000000  \\\n",
       "mean             29.566911                 4.633774            17.017948   \n",
       "std               5.815064                 0.334744             8.185674   \n",
       "min              15.000000                 1.000000           -30.905562   \n",
       "25%              25.000000                 4.500000            12.933284   \n",
       "50%              30.000000                 4.700000            18.551440   \n",
       "75%              35.000000                 4.900000            22.728163   \n",
       "max              50.000000                 6.000000            30.914057   \n",
       "\n",
       "       Restaurant_longitude  Delivery_location_latitude   \n",
       "count          45584.000000                45584.000000  \\\n",
       "mean              70.229684                   17.465480   \n",
       "std               22.885575                    7.335562   \n",
       "min              -88.366217                    0.010000   \n",
       "25%               73.170000                   12.988453   \n",
       "50%               75.897963                   18.633934   \n",
       "75%               78.044095                   22.785049   \n",
       "max               88.433452                   31.054057   \n",
       "\n",
       "       Delivery_location_longitude  Vehicle_condition  multiple_deliveries   \n",
       "count                 45584.000000       45584.000000         44591.000000  \\\n",
       "mean                     70.844161           1.023385             0.744635   \n",
       "std                      21.120578           0.839055             0.572510   \n",
       "min                       0.010000           0.000000             0.000000   \n",
       "25%                      73.280000           0.000000             0.000000   \n",
       "50%                      76.002574           1.000000             1.000000   \n",
       "75%                      78.107044           2.000000             1.000000   \n",
       "max                      88.563452           3.000000             3.000000   \n",
       "\n",
       "       Time_taken (min)  \n",
       "count      45584.000000  \n",
       "mean          26.293963  \n",
       "std            9.384298  \n",
       "min           10.000000  \n",
       "25%           19.000000  \n",
       "50%           26.000000  \n",
       "75%           32.000000  \n",
       "max           54.000000  "
      ]
     },
     "execution_count": 8,
     "metadata": {},
     "output_type": "execute_result"
    }
   ],
   "source": [
    "df.describe()"
   ]
  },
  {
   "attachments": {},
   "cell_type": "markdown",
   "metadata": {},
   "source": [
    "## In data  Analysis what all things we do\n",
    "1.missing values\n",
    "2.Explore about the numerical value\n",
    "3.explore about categorical variable\n",
    "4.finding relationship between feature"
   ]
  },
  {
   "cell_type": "code",
   "execution_count": 9,
   "metadata": {},
   "outputs": [
    {
     "data": {
      "text/html": [
       "<div>\n",
       "<style scoped>\n",
       "    .dataframe tbody tr th:only-of-type {\n",
       "        vertical-align: middle;\n",
       "    }\n",
       "\n",
       "    .dataframe tbody tr th {\n",
       "        vertical-align: top;\n",
       "    }\n",
       "\n",
       "    .dataframe thead th {\n",
       "        text-align: right;\n",
       "    }\n",
       "</style>\n",
       "<table border=\"1\" class=\"dataframe\">\n",
       "  <thead>\n",
       "    <tr style=\"text-align: right;\">\n",
       "      <th></th>\n",
       "      <th>Delivery_person_Age</th>\n",
       "      <th>Delivery_person_Ratings</th>\n",
       "      <th>Restaurant_latitude</th>\n",
       "      <th>Restaurant_longitude</th>\n",
       "      <th>Delivery_location_latitude</th>\n",
       "      <th>Delivery_location_longitude</th>\n",
       "      <th>Order_Date</th>\n",
       "      <th>Time_Orderd</th>\n",
       "      <th>Time_Order_picked</th>\n",
       "      <th>Weather_conditions</th>\n",
       "      <th>Road_traffic_density</th>\n",
       "      <th>Vehicle_condition</th>\n",
       "      <th>Type_of_order</th>\n",
       "      <th>Type_of_vehicle</th>\n",
       "      <th>multiple_deliveries</th>\n",
       "      <th>Festival</th>\n",
       "      <th>City</th>\n",
       "      <th>Time_taken (min)</th>\n",
       "    </tr>\n",
       "  </thead>\n",
       "  <tbody>\n",
       "    <tr>\n",
       "      <th>22335</th>\n",
       "      <td>35.0</td>\n",
       "      <td>4.8</td>\n",
       "      <td>19.131141</td>\n",
       "      <td>72.813074</td>\n",
       "      <td>19.261140</td>\n",
       "      <td>72.943074</td>\n",
       "      <td>04-04-2022</td>\n",
       "      <td>20:50</td>\n",
       "      <td>20:55</td>\n",
       "      <td>Cloudy</td>\n",
       "      <td>Jam</td>\n",
       "      <td>0</td>\n",
       "      <td>Meal</td>\n",
       "      <td>motorcycle</td>\n",
       "      <td>1.0</td>\n",
       "      <td>Yes</td>\n",
       "      <td>Metropolitian</td>\n",
       "      <td>50</td>\n",
       "    </tr>\n",
       "    <tr>\n",
       "      <th>22159</th>\n",
       "      <td>38.0</td>\n",
       "      <td>4.6</td>\n",
       "      <td>19.223840</td>\n",
       "      <td>72.841347</td>\n",
       "      <td>19.293840</td>\n",
       "      <td>72.911347</td>\n",
       "      <td>29-03-2022</td>\n",
       "      <td>21:30</td>\n",
       "      <td>21:35</td>\n",
       "      <td>Sunny</td>\n",
       "      <td>Jam</td>\n",
       "      <td>0</td>\n",
       "      <td>Snack</td>\n",
       "      <td>motorcycle</td>\n",
       "      <td>2.0</td>\n",
       "      <td>No</td>\n",
       "      <td>Metropolitian</td>\n",
       "      <td>40</td>\n",
       "    </tr>\n",
       "    <tr>\n",
       "      <th>19904</th>\n",
       "      <td>31.0</td>\n",
       "      <td>4.8</td>\n",
       "      <td>12.311072</td>\n",
       "      <td>76.654878</td>\n",
       "      <td>12.331072</td>\n",
       "      <td>76.674878</td>\n",
       "      <td>30-03-2022</td>\n",
       "      <td>11:50</td>\n",
       "      <td>0.5</td>\n",
       "      <td>Sandstorms</td>\n",
       "      <td>High</td>\n",
       "      <td>2</td>\n",
       "      <td>Snack</td>\n",
       "      <td>motorcycle</td>\n",
       "      <td>0.0</td>\n",
       "      <td>No</td>\n",
       "      <td>Metropolitian</td>\n",
       "      <td>32</td>\n",
       "    </tr>\n",
       "    <tr>\n",
       "      <th>36398</th>\n",
       "      <td>28.0</td>\n",
       "      <td>4.7</td>\n",
       "      <td>22.751234</td>\n",
       "      <td>75.889490</td>\n",
       "      <td>22.881234</td>\n",
       "      <td>76.019490</td>\n",
       "      <td>02-04-2022</td>\n",
       "      <td>19:20</td>\n",
       "      <td>19:35</td>\n",
       "      <td>Cloudy</td>\n",
       "      <td>Jam</td>\n",
       "      <td>0</td>\n",
       "      <td>Meal</td>\n",
       "      <td>motorcycle</td>\n",
       "      <td>1.0</td>\n",
       "      <td>Yes</td>\n",
       "      <td>Metropolitian</td>\n",
       "      <td>49</td>\n",
       "    </tr>\n",
       "    <tr>\n",
       "      <th>10516</th>\n",
       "      <td>31.0</td>\n",
       "      <td>4.6</td>\n",
       "      <td>21.170798</td>\n",
       "      <td>72.790489</td>\n",
       "      <td>21.230798</td>\n",
       "      <td>72.850489</td>\n",
       "      <td>05-04-2022</td>\n",
       "      <td>0.875</td>\n",
       "      <td>21:15</td>\n",
       "      <td>Sunny</td>\n",
       "      <td>Jam</td>\n",
       "      <td>1</td>\n",
       "      <td>Buffet</td>\n",
       "      <td>motorcycle</td>\n",
       "      <td>1.0</td>\n",
       "      <td>No</td>\n",
       "      <td>Metropolitian</td>\n",
       "      <td>24</td>\n",
       "    </tr>\n",
       "  </tbody>\n",
       "</table>\n",
       "</div>"
      ],
      "text/plain": [
       "       Delivery_person_Age  Delivery_person_Ratings  Restaurant_latitude   \n",
       "22335                 35.0                      4.8            19.131141  \\\n",
       "22159                 38.0                      4.6            19.223840   \n",
       "19904                 31.0                      4.8            12.311072   \n",
       "36398                 28.0                      4.7            22.751234   \n",
       "10516                 31.0                      4.6            21.170798   \n",
       "\n",
       "       Restaurant_longitude  Delivery_location_latitude   \n",
       "22335             72.813074                   19.261140  \\\n",
       "22159             72.841347                   19.293840   \n",
       "19904             76.654878                   12.331072   \n",
       "36398             75.889490                   22.881234   \n",
       "10516             72.790489                   21.230798   \n",
       "\n",
       "       Delivery_location_longitude  Order_Date Time_Orderd Time_Order_picked   \n",
       "22335                    72.943074  04-04-2022       20:50             20:55  \\\n",
       "22159                    72.911347  29-03-2022       21:30             21:35   \n",
       "19904                    76.674878  30-03-2022       11:50               0.5   \n",
       "36398                    76.019490  02-04-2022       19:20             19:35   \n",
       "10516                    72.850489  05-04-2022       0.875             21:15   \n",
       "\n",
       "      Weather_conditions Road_traffic_density  Vehicle_condition   \n",
       "22335             Cloudy                  Jam                  0  \\\n",
       "22159              Sunny                  Jam                  0   \n",
       "19904         Sandstorms                 High                  2   \n",
       "36398             Cloudy                  Jam                  0   \n",
       "10516              Sunny                  Jam                  1   \n",
       "\n",
       "      Type_of_order Type_of_vehicle  multiple_deliveries Festival   \n",
       "22335          Meal      motorcycle                  1.0      Yes  \\\n",
       "22159         Snack      motorcycle                  2.0       No   \n",
       "19904         Snack      motorcycle                  0.0       No   \n",
       "36398          Meal      motorcycle                  1.0      Yes   \n",
       "10516        Buffet      motorcycle                  1.0       No   \n",
       "\n",
       "                City  Time_taken (min)  \n",
       "22335  Metropolitian                50  \n",
       "22159  Metropolitian                40  \n",
       "19904  Metropolitian                32  \n",
       "36398  Metropolitian                49  \n",
       "10516  Metropolitian                24  "
      ]
     },
     "execution_count": 9,
     "metadata": {},
     "output_type": "execute_result"
    }
   ],
   "source": [
    "\n",
    "df.drop(\"Delivery_person_ID\",axis=1,inplace=True)\n",
    "df.sample(5)"
   ]
  },
  {
   "cell_type": "code",
   "execution_count": 10,
   "metadata": {},
   "outputs": [],
   "source": [
    "df[\"order_day\"]=pd.to_datetime(df[\"Order_Date\"],dayfirst=True).dt.day\n",
    "df[\"order_month\"]=pd.to_datetime(df[\"Order_Date\"],dayfirst=True).dt.month\n",
    "#i am not create year columns because they not effect more our data .its only 2022"
   ]
  },
  {
   "cell_type": "code",
   "execution_count": 11,
   "metadata": {},
   "outputs": [
    {
     "data": {
      "text/plain": [
       "0        12\n",
       "1        13\n",
       "2         4\n",
       "3        13\n",
       "4        14\n",
       "         ..\n",
       "45579    24\n",
       "45580    16\n",
       "45581    11\n",
       "45582     7\n",
       "45583     2\n",
       "Name: order_day, Length: 45584, dtype: int32"
      ]
     },
     "execution_count": 11,
     "metadata": {},
     "output_type": "execute_result"
    }
   ],
   "source": [
    "df[\"order_day\"]"
   ]
  },
  {
   "cell_type": "code",
   "execution_count": 12,
   "metadata": {},
   "outputs": [
    {
     "data": {
      "text/plain": [
       "0        2\n",
       "1        2\n",
       "2        3\n",
       "3        2\n",
       "4        2\n",
       "        ..\n",
       "45579    3\n",
       "45580    2\n",
       "45581    3\n",
       "45582    3\n",
       "45583    3\n",
       "Name: order_month, Length: 45584, dtype: int32"
      ]
     },
     "execution_count": 12,
     "metadata": {},
     "output_type": "execute_result"
    }
   ],
   "source": [
    "df[\"order_month\"]"
   ]
  },
  {
   "cell_type": "code",
   "execution_count": 13,
   "metadata": {},
   "outputs": [
    {
     "data": {
      "text/plain": [
       "array(['21:55', '14:55', '17:30', '09:20', '19:50', '20:25', '20:30',\n",
       "       '20:40', '21:15', '20:20', '22:30', '08:15', '19:30', '12:25',\n",
       "       '18:35', '20:35', '23:20', '21:20', '23:35', '22:35', '23:25',\n",
       "       '13:35', '21:35', '18:55', '14:15', '0.458333333', '09:45',\n",
       "       '08:40', '0.958333333', '17:25', nan, '19:45', '19:10', '10:55',\n",
       "       '21:40', '0.791666667', '16:45', '11:30', '15:10', '22:45',\n",
       "       '22:10', '20:45', '22:50', '17:55', '09:25', '20:15', '22:25',\n",
       "       '22:40', '23:50', '15:25', '10:20', '20:55', '10:40', '15:55',\n",
       "       '20:10', '12:10', '15:30', '10:35', '21:10', '20:50', '12:35',\n",
       "       '0.875', '23:40', '18:15', '18:20', '11:45', '12:45', '23:30',\n",
       "       '10:50', '21:25', '10:10', '17:50', '22:20', '12:40', '23:55',\n",
       "       '10:25', '08:45', '23:45', '19:55', '22:15', '23:10', '09:15',\n",
       "       '18:25', '18:45', '16:50', '1', '14:20', '10:15', '08:50', '0.375',\n",
       "       '17:45', '16:35', '08:30', '21:45', '19:40', '14:50', '18:10',\n",
       "       '12:20', '12:50', '09:10', '12:30', '17:10', '19:15', '17:20',\n",
       "       '18:30', '13:10', '19:35', '09:50', '0.625', '0.833333333',\n",
       "       '10:30', '09:40', '15:35', '16:55', '22:55', '0.666666667', '0.75',\n",
       "       '17:15', '21:30', '18:40', '11:10', '13:50', '0.416666667',\n",
       "       '21:50', '11:50', '13:30', '0.916666667', '08:25', '11:20',\n",
       "       '11:55', '09:30', '08:20', '08:10', '11:40', '23:15', '19:20',\n",
       "       '12:15', '11:35', '11:15', '17:35', '17:40', '14:40', '18:50',\n",
       "       '11:25', '14:25', '0.5', '16:10', '19:25', '08:55', '13:40',\n",
       "       '0.708333333', '09:35', '08:35', '16:15', '13:20', '15:50',\n",
       "       '15:20', '16:20', '14:30', '15:45', '16:40', '0.541666667',\n",
       "       '12:55', '10:45', '13:25', '09:55', '15:15', '13:15',\n",
       "       '0.583333333', '15:40', '16:25', '14:10', '13:45', '13:55',\n",
       "       '14:35', '16:30', '14:45'], dtype=object)"
      ]
     },
     "execution_count": 13,
     "metadata": {},
     "output_type": "execute_result"
    }
   ],
   "source": [
    "df[\"Time_Orderd\"].unique()\n",
    "#when we look in the data than got not same manner values "
   ]
  },
  {
   "cell_type": "code",
   "execution_count": 14,
   "metadata": {},
   "outputs": [],
   "source": [
    "df[\"Time_Orderd\"]=df[\"Time_Orderd\"].str.replace(\".\",\":\")"
   ]
  },
  {
   "cell_type": "code",
   "execution_count": 15,
   "metadata": {},
   "outputs": [
    {
     "data": {
      "text/plain": [
       "array(['21:55', '14:55', '17:30', '09:20', '19:50', '20:25', '20:30',\n",
       "       '20:40', '21:15', '20:20', '22:30', '08:15', '19:30', '12:25',\n",
       "       '18:35', '20:35', '23:20', '21:20', '23:35', '22:35', '23:25',\n",
       "       '13:35', '21:35', '18:55', '14:15', '0:458333333', '09:45',\n",
       "       '08:40', '0:958333333', '17:25', nan, '19:45', '19:10', '10:55',\n",
       "       '21:40', '0:791666667', '16:45', '11:30', '15:10', '22:45',\n",
       "       '22:10', '20:45', '22:50', '17:55', '09:25', '20:15', '22:25',\n",
       "       '22:40', '23:50', '15:25', '10:20', '20:55', '10:40', '15:55',\n",
       "       '20:10', '12:10', '15:30', '10:35', '21:10', '20:50', '12:35',\n",
       "       '0:875', '23:40', '18:15', '18:20', '11:45', '12:45', '23:30',\n",
       "       '10:50', '21:25', '10:10', '17:50', '22:20', '12:40', '23:55',\n",
       "       '10:25', '08:45', '23:45', '19:55', '22:15', '23:10', '09:15',\n",
       "       '18:25', '18:45', '16:50', '1', '14:20', '10:15', '08:50', '0:375',\n",
       "       '17:45', '16:35', '08:30', '21:45', '19:40', '14:50', '18:10',\n",
       "       '12:20', '12:50', '09:10', '12:30', '17:10', '19:15', '17:20',\n",
       "       '18:30', '13:10', '19:35', '09:50', '0:625', '0:833333333',\n",
       "       '10:30', '09:40', '15:35', '16:55', '22:55', '0:666666667', '0:75',\n",
       "       '17:15', '21:30', '18:40', '11:10', '13:50', '0:416666667',\n",
       "       '21:50', '11:50', '13:30', '0:916666667', '08:25', '11:20',\n",
       "       '11:55', '09:30', '08:20', '08:10', '11:40', '23:15', '19:20',\n",
       "       '12:15', '11:35', '11:15', '17:35', '17:40', '14:40', '18:50',\n",
       "       '11:25', '14:25', '0:5', '16:10', '19:25', '08:55', '13:40',\n",
       "       '0:708333333', '09:35', '08:35', '16:15', '13:20', '15:50',\n",
       "       '15:20', '16:20', '14:30', '15:45', '16:40', '0:541666667',\n",
       "       '12:55', '10:45', '13:25', '09:55', '15:15', '13:15',\n",
       "       '0:583333333', '15:40', '16:25', '14:10', '13:45', '13:55',\n",
       "       '14:35', '16:30', '14:45'], dtype=object)"
      ]
     },
     "execution_count": 15,
     "metadata": {},
     "output_type": "execute_result"
    }
   ],
   "source": [
    "df[\"Time_Orderd\"].unique()"
   ]
  },
  {
   "cell_type": "code",
   "execution_count": 16,
   "metadata": {},
   "outputs": [],
   "source": [
    "#After replace we need to splite the data hours ans mins\n",
    "df[\"order_hours\"]=df[\"Time_Orderd\"].str.split(\":\").str[0]\n",
    "df[\"order_min\"]=df[\"Time_Orderd\"].str.split(\":\").str[1]\n"
   ]
  },
  {
   "cell_type": "code",
   "execution_count": 17,
   "metadata": {},
   "outputs": [],
   "source": [
    "df[\"order_hours\"]=df[\"order_hours\"].astype(float)\n",
    "df[\"order_min\"]=df[\"order_min\"].astype(float)"
   ]
  },
  {
   "cell_type": "code",
   "execution_count": 18,
   "metadata": {},
   "outputs": [
    {
     "data": {
      "text/plain": [
       "array([21., 14., 17.,  9., 19., 20., 22.,  8., 12., 18., 23., 13.,  0.,\n",
       "       nan, 10., 16., 11., 15.,  1.])"
      ]
     },
     "execution_count": 18,
     "metadata": {},
     "output_type": "execute_result"
    }
   ],
   "source": [
    "df[\"order_hours\"].unique()"
   ]
  },
  {
   "cell_type": "code",
   "execution_count": 19,
   "metadata": {},
   "outputs": [
    {
     "data": {
      "text/plain": [
       "array([5.50000000e+01, 3.00000000e+01, 2.00000000e+01, 5.00000000e+01,\n",
       "       2.50000000e+01, 4.00000000e+01, 1.50000000e+01, 3.50000000e+01,\n",
       "       4.58333333e+08, 4.50000000e+01, 9.58333333e+08,            nan,\n",
       "       1.00000000e+01, 7.91666667e+08, 8.75000000e+02, 3.75000000e+02,\n",
       "       6.25000000e+02, 8.33333333e+08, 6.66666667e+08, 7.50000000e+01,\n",
       "       4.16666667e+08, 9.16666667e+08, 5.00000000e+00, 7.08333333e+08,\n",
       "       5.41666667e+08, 5.83333333e+08])"
      ]
     },
     "execution_count": 19,
     "metadata": {},
     "output_type": "execute_result"
    }
   ],
   "source": [
    "df[\"order_min\"].unique()"
   ]
  },
  {
   "cell_type": "code",
   "execution_count": 20,
   "metadata": {},
   "outputs": [],
   "source": [
    "#when look into the order_min than we got its not good as we want than we use some auto mation\n",
    "for i in df[\"order_min\"]:\n",
    "    if i>60:\n",
    "        p=i-60\n",
    "        df[\"order_min\"]=df[\"order_min\"].replace(i,i-p)\n",
    "\n",
    "#why 60?\n",
    "#bcoz 1 hour have 60 min"
   ]
  },
  {
   "cell_type": "code",
   "execution_count": 21,
   "metadata": {},
   "outputs": [
    {
     "data": {
      "text/plain": [
       "array([55., 30., 20., 50., 25., 40., 15., 35., 60., 45., nan, 10.,  5.])"
      ]
     },
     "execution_count": 21,
     "metadata": {},
     "output_type": "execute_result"
    }
   ],
   "source": [
    "df[\"order_min\"].unique()"
   ]
  },
  {
   "cell_type": "code",
   "execution_count": 22,
   "metadata": {},
   "outputs": [
    {
     "name": "stdout",
     "output_type": "stream",
     "text": [
      "<class 'pandas.core.frame.DataFrame'>\n",
      "RangeIndex: 45584 entries, 0 to 45583\n",
      "Data columns (total 22 columns):\n",
      " #   Column                       Non-Null Count  Dtype  \n",
      "---  ------                       --------------  -----  \n",
      " 0   Delivery_person_Age          43730 non-null  float64\n",
      " 1   Delivery_person_Ratings      43676 non-null  float64\n",
      " 2   Restaurant_latitude          45584 non-null  float64\n",
      " 3   Restaurant_longitude         45584 non-null  float64\n",
      " 4   Delivery_location_latitude   45584 non-null  float64\n",
      " 5   Delivery_location_longitude  45584 non-null  float64\n",
      " 6   Order_Date                   45584 non-null  object \n",
      " 7   Time_Orderd                  43853 non-null  object \n",
      " 8   Time_Order_picked            45584 non-null  object \n",
      " 9   Weather_conditions           44968 non-null  object \n",
      " 10  Road_traffic_density         44983 non-null  object \n",
      " 11  Vehicle_condition            45584 non-null  int64  \n",
      " 12  Type_of_order                45584 non-null  object \n",
      " 13  Type_of_vehicle              45584 non-null  object \n",
      " 14  multiple_deliveries          44591 non-null  float64\n",
      " 15  Festival                     45356 non-null  object \n",
      " 16  City                         44384 non-null  object \n",
      " 17  Time_taken (min)             45584 non-null  int64  \n",
      " 18  order_day                    45584 non-null  int32  \n",
      " 19  order_month                  45584 non-null  int32  \n",
      " 20  order_hours                  43853 non-null  float64\n",
      " 21  order_min                    43423 non-null  float64\n",
      "dtypes: float64(9), int32(2), int64(2), object(9)\n",
      "memory usage: 7.3+ MB\n"
     ]
    }
   ],
   "source": [
    "df.info()"
   ]
  },
  {
   "cell_type": "code",
   "execution_count": 23,
   "metadata": {},
   "outputs": [
    {
     "data": {
      "text/plain": [
       "array(['22:10', '15:05', '17:40', '09:30', '20:05', '20:35', '15:10',\n",
       "       '20:40', '20:50', '21:30', '20:25', '22:45', '08:30', '19:45',\n",
       "       '12:30', '18:50', '23:30', '21:35', '23:45', '22:50', '22:40',\n",
       "       '23:35', '13:40', '21:45', '19:10', '14:25', '11:10', '09:55',\n",
       "       '08:55', '23:10', '17:30', '18:35', '19:50', '19:25',\n",
       "       '0.458333333', '19:15', '16:55', '11:40', '15:15', '22:55',\n",
       "       '22:25', '20:55', '23:05', '0.75', '0.958333333', '09:40', '20:20',\n",
       "       '22:35', '0.916666667', '23:55', '15:40', '10:30', '0.875',\n",
       "       '10:50', '16:05', '20:15', '12:15', '15:45', '22:15', '10:45',\n",
       "       '15:30', '24:05:00', '21:25', '12:45', '21:15', '18:20', '18:25',\n",
       "       '11:50', '12:50', '10:55', '21:40', '10:20', '17:55', '23:50',\n",
       "       '12:55', '24:10:00', '10:40', '0.375', '20:45', '0.833333333',\n",
       "       '23:15', '22:20', '21:05', '0.708333333', '24:15:00', '21:20',\n",
       "       '14:35', '10:25', '09:05', '16:50', '08:40', '23:40', '21:50',\n",
       "       '19:55', '0.625', '10:35', '09:25', '17:20', '19:30', '17:25',\n",
       "       '20:10', '1', '17:35', '0.791666667', '19:05', '13:20', '17:50',\n",
       "       '18:05', '19:20', '10:05', '09:10', '21:55', '19:40', '18:10',\n",
       "       '09:50', '15:50', '18:30', '18:15', '16:15', '11:15', '21:10',\n",
       "       '22:30', '15:20', '18:40', '23:20', '11:25', '13:55', '18:45',\n",
       "       '22:05', '11:55', '18:55', '09:45', '17:15', '12:05', '0.5',\n",
       "       '19:35', '08:25', '11:05', '15:35', '12:40', '12:25', '08:20',\n",
       "       '23:25', '16:10', '13:45', '08:15', '08:45', '20:30',\n",
       "       '0.541666667', '11:20', '08:50', '14:45', '17:45', '0.416666667',\n",
       "       '08:35', '12:10', '11:35', '14:30', '10:15', '17:05', '10:10',\n",
       "       '09:35', '11:30', '16:25', '09:15', '13:35', '15:55', '13:10',\n",
       "       '13:05', '11:45', '16:20', '16:30', '16:45', '09:20', '13:25',\n",
       "       '14:15', '14:05', '16:35', '16:40', '13:30', '14:40', '12:20',\n",
       "       '13:50', '17:10', '15:25', '14:20', '12:35', '0.583333333',\n",
       "       '14:10', '14:55', '13:15', '14:50', '0.666666667'], dtype=object)"
      ]
     },
     "execution_count": 23,
     "metadata": {},
     "output_type": "execute_result"
    }
   ],
   "source": [
    "df[\"Time_Order_picked\"].unique()"
   ]
  },
  {
   "cell_type": "code",
   "execution_count": 24,
   "metadata": {},
   "outputs": [],
   "source": [
    "df[\"Time_Order_picked\"]=df[\"Time_Order_picked\"].str.replace(\".\",\":\")"
   ]
  },
  {
   "cell_type": "code",
   "execution_count": 25,
   "metadata": {},
   "outputs": [],
   "source": [
    "df[\"picked_hours\"]=df[\"Time_Order_picked\"].str.split(\":\").str[0]\n",
    "df[\"picked_min\"]=df[\"Time_Order_picked\"].str.split(\":\").str[1]\n",
    "df[\"picked_hours\"]=df[\"picked_hours\"].astype(float)\n",
    "df[\"picked_min\"]=df[\"picked_min\"].astype(float)"
   ]
  },
  {
   "cell_type": "code",
   "execution_count": 26,
   "metadata": {},
   "outputs": [
    {
     "data": {
      "text/plain": [
       "array([22., 15., 17.,  9., 20., 21.,  8., 19., 12., 18., 23., 13., 14.,\n",
       "       11.,  0., 16., 10., 24.,  1.])"
      ]
     },
     "execution_count": 26,
     "metadata": {},
     "output_type": "execute_result"
    }
   ],
   "source": [
    "df[\"picked_hours\"].unique()"
   ]
  },
  {
   "cell_type": "code",
   "execution_count": 27,
   "metadata": {},
   "outputs": [
    {
     "data": {
      "text/plain": [
       "array([1.00000000e+01, 5.00000000e+00, 4.00000000e+01, 3.00000000e+01,\n",
       "       3.50000000e+01, 5.00000000e+01, 2.50000000e+01, 4.50000000e+01,\n",
       "       5.50000000e+01, 4.58333333e+08, 1.50000000e+01, 7.50000000e+01,\n",
       "       9.58333333e+08, 2.00000000e+01, 9.16666667e+08, 8.75000000e+02,\n",
       "       3.75000000e+02, 8.33333333e+08, 7.08333333e+08, 6.25000000e+02,\n",
       "                  nan, 7.91666667e+08, 5.41666667e+08, 4.16666667e+08,\n",
       "       5.83333333e+08, 6.66666667e+08])"
      ]
     },
     "execution_count": 27,
     "metadata": {},
     "output_type": "execute_result"
    }
   ],
   "source": [
    "df[\"picked_min\"].unique()"
   ]
  },
  {
   "cell_type": "code",
   "execution_count": 28,
   "metadata": {},
   "outputs": [],
   "source": [
    "#when look into the order_min than we got its not good as we want than we use some auto mation\n",
    "for i in df[\"picked_min\"]:\n",
    "    if i>60:\n",
    "        p=i-60\n",
    "        df[\"picked_min\"]=df[\"picked_min\"].replace(i,i-p)\n",
    "\n",
    "#why 60?\n",
    "#bcoz 1 hour have 60 min"
   ]
  },
  {
   "cell_type": "code",
   "execution_count": 29,
   "metadata": {},
   "outputs": [
    {
     "data": {
      "text/plain": [
       "array([10.,  5., 40., 30., 35., 50., 25., 45., 55., 60., 15., 20., nan])"
      ]
     },
     "execution_count": 29,
     "metadata": {},
     "output_type": "execute_result"
    }
   ],
   "source": [
    "df[\"picked_min\"].unique()"
   ]
  },
  {
   "cell_type": "code",
   "execution_count": 30,
   "metadata": {},
   "outputs": [
    {
     "name": "stdout",
     "output_type": "stream",
     "text": [
      "<class 'pandas.core.frame.DataFrame'>\n",
      "RangeIndex: 45584 entries, 0 to 45583\n",
      "Data columns (total 24 columns):\n",
      " #   Column                       Non-Null Count  Dtype  \n",
      "---  ------                       --------------  -----  \n",
      " 0   Delivery_person_Age          43730 non-null  float64\n",
      " 1   Delivery_person_Ratings      43676 non-null  float64\n",
      " 2   Restaurant_latitude          45584 non-null  float64\n",
      " 3   Restaurant_longitude         45584 non-null  float64\n",
      " 4   Delivery_location_latitude   45584 non-null  float64\n",
      " 5   Delivery_location_longitude  45584 non-null  float64\n",
      " 6   Order_Date                   45584 non-null  object \n",
      " 7   Time_Orderd                  43853 non-null  object \n",
      " 8   Time_Order_picked            45584 non-null  object \n",
      " 9   Weather_conditions           44968 non-null  object \n",
      " 10  Road_traffic_density         44983 non-null  object \n",
      " 11  Vehicle_condition            45584 non-null  int64  \n",
      " 12  Type_of_order                45584 non-null  object \n",
      " 13  Type_of_vehicle              45584 non-null  object \n",
      " 14  multiple_deliveries          44591 non-null  float64\n",
      " 15  Festival                     45356 non-null  object \n",
      " 16  City                         44384 non-null  object \n",
      " 17  Time_taken (min)             45584 non-null  int64  \n",
      " 18  order_day                    45584 non-null  int32  \n",
      " 19  order_month                  45584 non-null  int32  \n",
      " 20  order_hours                  43853 non-null  float64\n",
      " 21  order_min                    43423 non-null  float64\n",
      " 22  picked_hours                 45584 non-null  float64\n",
      " 23  picked_min                   45144 non-null  float64\n",
      "dtypes: float64(11), int32(2), int64(2), object(9)\n",
      "memory usage: 8.0+ MB\n"
     ]
    }
   ],
   "source": [
    "df.info()"
   ]
  },
  {
   "cell_type": "code",
   "execution_count": 31,
   "metadata": {},
   "outputs": [],
   "source": [
    "df.drop(labels=[\"Order_Date\",\"Time_Orderd\",\"Time_Order_picked\"],axis=1,inplace=True)"
   ]
  },
  {
   "cell_type": "code",
   "execution_count": 32,
   "metadata": {},
   "outputs": [
    {
     "name": "stdout",
     "output_type": "stream",
     "text": [
      "<class 'pandas.core.frame.DataFrame'>\n",
      "RangeIndex: 45584 entries, 0 to 45583\n",
      "Data columns (total 21 columns):\n",
      " #   Column                       Non-Null Count  Dtype  \n",
      "---  ------                       --------------  -----  \n",
      " 0   Delivery_person_Age          43730 non-null  float64\n",
      " 1   Delivery_person_Ratings      43676 non-null  float64\n",
      " 2   Restaurant_latitude          45584 non-null  float64\n",
      " 3   Restaurant_longitude         45584 non-null  float64\n",
      " 4   Delivery_location_latitude   45584 non-null  float64\n",
      " 5   Delivery_location_longitude  45584 non-null  float64\n",
      " 6   Weather_conditions           44968 non-null  object \n",
      " 7   Road_traffic_density         44983 non-null  object \n",
      " 8   Vehicle_condition            45584 non-null  int64  \n",
      " 9   Type_of_order                45584 non-null  object \n",
      " 10  Type_of_vehicle              45584 non-null  object \n",
      " 11  multiple_deliveries          44591 non-null  float64\n",
      " 12  Festival                     45356 non-null  object \n",
      " 13  City                         44384 non-null  object \n",
      " 14  Time_taken (min)             45584 non-null  int64  \n",
      " 15  order_day                    45584 non-null  int32  \n",
      " 16  order_month                  45584 non-null  int32  \n",
      " 17  order_hours                  43853 non-null  float64\n",
      " 18  order_min                    43423 non-null  float64\n",
      " 19  picked_hours                 45584 non-null  float64\n",
      " 20  picked_min                   45144 non-null  float64\n",
      "dtypes: float64(11), int32(2), int64(2), object(6)\n",
      "memory usage: 7.0+ MB\n"
     ]
    }
   ],
   "source": [
    "df.info()"
   ]
  },
  {
   "attachments": {},
   "cell_type": "markdown",
   "metadata": {},
   "source": [
    "### Some Manual work"
   ]
  },
  {
   "cell_type": "code",
   "execution_count": 33,
   "metadata": {},
   "outputs": [
    {
     "data": {
      "text/plain": [
       "Delivery_person_Age            1854\n",
       "Delivery_person_Ratings        1908\n",
       "Restaurant_latitude               0\n",
       "Restaurant_longitude              0\n",
       "Delivery_location_latitude        0\n",
       "Delivery_location_longitude       0\n",
       "Weather_conditions              616\n",
       "Road_traffic_density            601\n",
       "Vehicle_condition                 0\n",
       "Type_of_order                     0\n",
       "Type_of_vehicle                   0\n",
       "multiple_deliveries             993\n",
       "Festival                        228\n",
       "City                           1200\n",
       "Time_taken (min)                  0\n",
       "order_day                         0\n",
       "order_month                       0\n",
       "order_hours                    1731\n",
       "order_min                      2161\n",
       "picked_hours                      0\n",
       "picked_min                      440\n",
       "dtype: int64"
      ]
     },
     "execution_count": 33,
     "metadata": {},
     "output_type": "execute_result"
    }
   ],
   "source": [
    "df.isnull().sum()"
   ]
  },
  {
   "cell_type": "code",
   "execution_count": 34,
   "metadata": {},
   "outputs": [
    {
     "name": "stdout",
     "output_type": "stream",
     "text": [
      "29.566910587697233\n",
      "4.6337736972250205\n"
     ]
    }
   ],
   "source": [
    "import numpy as np\n",
    "print(np.mean(df[\"Delivery_person_Age\"]))\n",
    "print(np.mean(df[\"Delivery_person_Ratings\"]))"
   ]
  },
  {
   "cell_type": "code",
   "execution_count": 35,
   "metadata": {},
   "outputs": [],
   "source": [
    "df[\"Delivery_person_Ratings\"].fillna(4.6,inplace=True)\n",
    "df[\"Delivery_person_Ratings\"]=df[\"Delivery_person_Ratings\"].astype(float)"
   ]
  },
  {
   "cell_type": "code",
   "execution_count": 36,
   "metadata": {},
   "outputs": [],
   "source": [
    "df[\"Delivery_person_Age\"].fillna(29,inplace=True)\n",
    "df[\"Delivery_person_Age\"]=df[\"Delivery_person_Age\"].astype(float)"
   ]
  },
  {
   "cell_type": "code",
   "execution_count": 37,
   "metadata": {},
   "outputs": [
    {
     "data": {
      "text/plain": [
       "array(['Fog', 'Stormy', 'Sandstorms', 'Windy', 'Cloudy', 'Sunny', nan],\n",
       "      dtype=object)"
      ]
     },
     "execution_count": 37,
     "metadata": {},
     "output_type": "execute_result"
    }
   ],
   "source": [
    "df[\"Weather_conditions\"].unique()"
   ]
  },
  {
   "cell_type": "code",
   "execution_count": 38,
   "metadata": {},
   "outputs": [
    {
     "data": {
      "text/plain": [
       "Weather_conditions\n",
       "Fog           7653\n",
       "Stormy        7584\n",
       "Cloudy        7533\n",
       "Sandstorms    7494\n",
       "Windy         7422\n",
       "Sunny         7282\n",
       "Name: count, dtype: int64"
      ]
     },
     "execution_count": 38,
     "metadata": {},
     "output_type": "execute_result"
    }
   ],
   "source": [
    "df[\"Weather_conditions\"].value_counts()"
   ]
  },
  {
   "cell_type": "code",
   "execution_count": 39,
   "metadata": {},
   "outputs": [],
   "source": [
    "df[\"Weather_conditions\"].fillna(\"fog\",inplace=True)"
   ]
  },
  {
   "cell_type": "code",
   "execution_count": 40,
   "metadata": {},
   "outputs": [
    {
     "data": {
      "text/plain": [
       "array(['Fog', 'Stormy', 'Sandstorms', 'Windy', 'Cloudy', 'Sunny', 'fog'],\n",
       "      dtype=object)"
      ]
     },
     "execution_count": 40,
     "metadata": {},
     "output_type": "execute_result"
    }
   ],
   "source": [
    "df[\"Weather_conditions\"].unique()"
   ]
  },
  {
   "cell_type": "code",
   "execution_count": 41,
   "metadata": {},
   "outputs": [
    {
     "data": {
      "text/plain": [
       "Road_traffic_density\n",
       "Low       15476\n",
       "Jam       14139\n",
       "Medium    10945\n",
       "High       4423\n",
       "Name: count, dtype: int64"
      ]
     },
     "execution_count": 41,
     "metadata": {},
     "output_type": "execute_result"
    }
   ],
   "source": [
    "df[\"Road_traffic_density\"].unique()\n",
    "df[\"Road_traffic_density\"].value_counts()"
   ]
  },
  {
   "cell_type": "code",
   "execution_count": 42,
   "metadata": {},
   "outputs": [],
   "source": [
    "df[\"Road_traffic_density\"].fillna(\"Low\",inplace=True)"
   ]
  },
  {
   "cell_type": "code",
   "execution_count": 43,
   "metadata": {},
   "outputs": [
    {
     "data": {
      "text/plain": [
       "array([ 3.,  1.,  0., nan,  2.])"
      ]
     },
     "execution_count": 43,
     "metadata": {},
     "output_type": "execute_result"
    }
   ],
   "source": [
    "df[\"multiple_deliveries\"].unique()"
   ]
  },
  {
   "cell_type": "code",
   "execution_count": 44,
   "metadata": {},
   "outputs": [
    {
     "data": {
      "text/plain": [
       "multiple_deliveries\n",
       "1.0    28151\n",
       "0.0    14094\n",
       "2.0     1985\n",
       "3.0      361\n",
       "Name: count, dtype: int64"
      ]
     },
     "execution_count": 44,
     "metadata": {},
     "output_type": "execute_result"
    }
   ],
   "source": [
    "df[\"multiple_deliveries\"].value_counts()"
   ]
  },
  {
   "cell_type": "code",
   "execution_count": 45,
   "metadata": {},
   "outputs": [],
   "source": [
    "#this is also a categorical varibale tharefore i using most frequent value\n",
    "df[\"multiple_deliveries\"].fillna(\"1.0\",inplace=True)"
   ]
  },
  {
   "cell_type": "code",
   "execution_count": 46,
   "metadata": {},
   "outputs": [
    {
     "data": {
      "text/plain": [
       "array(['No', 'Yes', nan], dtype=object)"
      ]
     },
     "execution_count": 46,
     "metadata": {},
     "output_type": "execute_result"
    }
   ],
   "source": [
    "df[\"Festival\"].unique()"
   ]
  },
  {
   "cell_type": "code",
   "execution_count": 47,
   "metadata": {},
   "outputs": [
    {
     "data": {
      "text/plain": [
       "Festival\n",
       "No     44460\n",
       "Yes      896\n",
       "Name: count, dtype: int64"
      ]
     },
     "execution_count": 47,
     "metadata": {},
     "output_type": "execute_result"
    }
   ],
   "source": [
    "df[\"Festival\"].value_counts()"
   ]
  },
  {
   "cell_type": "code",
   "execution_count": 48,
   "metadata": {},
   "outputs": [],
   "source": [
    "df[\"Festival\"].fillna(\"No\",inplace=True)"
   ]
  },
  {
   "cell_type": "code",
   "execution_count": 49,
   "metadata": {},
   "outputs": [
    {
     "data": {
      "text/plain": [
       "array(['Metropolitian', 'Urban', 'Semi-Urban', nan], dtype=object)"
      ]
     },
     "execution_count": 49,
     "metadata": {},
     "output_type": "execute_result"
    }
   ],
   "source": [
    "df[\"City\"].unique()"
   ]
  },
  {
   "cell_type": "code",
   "execution_count": 50,
   "metadata": {},
   "outputs": [
    {
     "data": {
      "text/plain": [
       "City\n",
       "Metropolitian    34087\n",
       "Urban            10133\n",
       "Semi-Urban         164\n",
       "Name: count, dtype: int64"
      ]
     },
     "execution_count": 50,
     "metadata": {},
     "output_type": "execute_result"
    }
   ],
   "source": [
    "df[\"City\"].value_counts()"
   ]
  },
  {
   "cell_type": "code",
   "execution_count": 51,
   "metadata": {},
   "outputs": [],
   "source": [
    "df[\"City\"].fillna(\"Metropolitian\",inplace=True)"
   ]
  },
  {
   "cell_type": "code",
   "execution_count": 52,
   "metadata": {},
   "outputs": [
    {
     "data": {
      "text/plain": [
       "18.0"
      ]
     },
     "execution_count": 52,
     "metadata": {},
     "output_type": "execute_result"
    }
   ],
   "source": [
    "df[\"order_hours\"].median()\n",
    "#in real life we also say that mosly we order something in evening"
   ]
  },
  {
   "cell_type": "code",
   "execution_count": 53,
   "metadata": {},
   "outputs": [],
   "source": [
    "df[\"order_hours\"].fillna(\"18.0\",inplace=True)"
   ]
  },
  {
   "cell_type": "code",
   "execution_count": 54,
   "metadata": {},
   "outputs": [
    {
     "data": {
      "text/plain": [
       "order_min\n",
       "35.0    4118\n",
       "40.0    4027\n",
       "45.0    3994\n",
       "55.0    3993\n",
       "20.0    3993\n",
       "25.0    3975\n",
       "10.0    3968\n",
       "50.0    3966\n",
       "30.0    3884\n",
       "15.0    3867\n",
       "60.0    3449\n",
       "5.0      189\n",
       "Name: count, dtype: int64"
      ]
     },
     "execution_count": 54,
     "metadata": {},
     "output_type": "execute_result"
    }
   ],
   "source": [
    "df[\"order_min\"].value_counts()"
   ]
  },
  {
   "cell_type": "code",
   "execution_count": 55,
   "metadata": {},
   "outputs": [
    {
     "data": {
      "text/plain": [
       "34.640167653087076"
      ]
     },
     "execution_count": 55,
     "metadata": {},
     "output_type": "execute_result"
    }
   ],
   "source": [
    "df[\"order_min\"].mean()"
   ]
  },
  {
   "cell_type": "code",
   "execution_count": 56,
   "metadata": {},
   "outputs": [],
   "source": [
    "df[\"order_min\"].fillna(35,inplace=True)"
   ]
  },
  {
   "cell_type": "code",
   "execution_count": 57,
   "metadata": {},
   "outputs": [
    {
     "data": {
      "text/plain": [
       "picked_min\n",
       "5.0     4374\n",
       "30.0    4227\n",
       "50.0    4196\n",
       "45.0    4151\n",
       "40.0    4123\n",
       "25.0    4111\n",
       "55.0    4110\n",
       "35.0    4072\n",
       "60.0    3499\n",
       "10.0    2830\n",
       "15.0    2811\n",
       "20.0    2640\n",
       "Name: count, dtype: int64"
      ]
     },
     "execution_count": 57,
     "metadata": {},
     "output_type": "execute_result"
    }
   ],
   "source": [
    "df[\"picked_min\"].value_counts()"
   ]
  },
  {
   "cell_type": "code",
   "execution_count": 58,
   "metadata": {},
   "outputs": [],
   "source": [
    "df[\"picked_min\"].fillna(5.0,inplace=True)"
   ]
  },
  {
   "cell_type": "code",
   "execution_count": 59,
   "metadata": {},
   "outputs": [
    {
     "name": "stdout",
     "output_type": "stream",
     "text": [
      "<class 'pandas.core.frame.DataFrame'>\n",
      "RangeIndex: 45584 entries, 0 to 45583\n",
      "Data columns (total 21 columns):\n",
      " #   Column                       Non-Null Count  Dtype  \n",
      "---  ------                       --------------  -----  \n",
      " 0   Delivery_person_Age          45584 non-null  float64\n",
      " 1   Delivery_person_Ratings      45584 non-null  float64\n",
      " 2   Restaurant_latitude          45584 non-null  float64\n",
      " 3   Restaurant_longitude         45584 non-null  float64\n",
      " 4   Delivery_location_latitude   45584 non-null  float64\n",
      " 5   Delivery_location_longitude  45584 non-null  float64\n",
      " 6   Weather_conditions           45584 non-null  object \n",
      " 7   Road_traffic_density         45584 non-null  object \n",
      " 8   Vehicle_condition            45584 non-null  int64  \n",
      " 9   Type_of_order                45584 non-null  object \n",
      " 10  Type_of_vehicle              45584 non-null  object \n",
      " 11  multiple_deliveries          45584 non-null  object \n",
      " 12  Festival                     45584 non-null  object \n",
      " 13  City                         45584 non-null  object \n",
      " 14  Time_taken (min)             45584 non-null  int64  \n",
      " 15  order_day                    45584 non-null  int32  \n",
      " 16  order_month                  45584 non-null  int32  \n",
      " 17  order_hours                  45584 non-null  object \n",
      " 18  order_min                    45584 non-null  float64\n",
      " 19  picked_hours                 45584 non-null  float64\n",
      " 20  picked_min                   45584 non-null  float64\n",
      "dtypes: float64(9), int32(2), int64(2), object(8)\n",
      "memory usage: 7.0+ MB\n"
     ]
    }
   ],
   "source": [
    "df.info()"
   ]
  },
  {
   "cell_type": "code",
   "execution_count": 60,
   "metadata": {},
   "outputs": [
    {
     "data": {
      "text/plain": [
       "Delivery_person_Age            0\n",
       "Delivery_person_Ratings        0\n",
       "Restaurant_latitude            0\n",
       "Restaurant_longitude           0\n",
       "Delivery_location_latitude     0\n",
       "Delivery_location_longitude    0\n",
       "Weather_conditions             0\n",
       "Road_traffic_density           0\n",
       "Vehicle_condition              0\n",
       "Type_of_order                  0\n",
       "Type_of_vehicle                0\n",
       "multiple_deliveries            0\n",
       "Festival                       0\n",
       "City                           0\n",
       "Time_taken (min)               0\n",
       "order_day                      0\n",
       "order_month                    0\n",
       "order_hours                    0\n",
       "order_min                      0\n",
       "picked_hours                   0\n",
       "picked_min                     0\n",
       "dtype: int64"
      ]
     },
     "execution_count": 60,
     "metadata": {},
     "output_type": "execute_result"
    }
   ],
   "source": [
    "df.isnull().sum()\n",
    "#there is null value"
   ]
  },
  {
   "cell_type": "code",
   "execution_count": 61,
   "metadata": {},
   "outputs": [
    {
     "data": {
      "text/html": [
       "<div>\n",
       "<style scoped>\n",
       "    .dataframe tbody tr th:only-of-type {\n",
       "        vertical-align: middle;\n",
       "    }\n",
       "\n",
       "    .dataframe tbody tr th {\n",
       "        vertical-align: top;\n",
       "    }\n",
       "\n",
       "    .dataframe thead th {\n",
       "        text-align: right;\n",
       "    }\n",
       "</style>\n",
       "<table border=\"1\" class=\"dataframe\">\n",
       "  <thead>\n",
       "    <tr style=\"text-align: right;\">\n",
       "      <th></th>\n",
       "      <th>Delivery_person_Age</th>\n",
       "      <th>Delivery_person_Ratings</th>\n",
       "      <th>Restaurant_latitude</th>\n",
       "      <th>Restaurant_longitude</th>\n",
       "      <th>Delivery_location_latitude</th>\n",
       "      <th>Delivery_location_longitude</th>\n",
       "      <th>Weather_conditions</th>\n",
       "      <th>Road_traffic_density</th>\n",
       "      <th>Vehicle_condition</th>\n",
       "      <th>Type_of_order</th>\n",
       "      <th>...</th>\n",
       "      <th>multiple_deliveries</th>\n",
       "      <th>Festival</th>\n",
       "      <th>City</th>\n",
       "      <th>Time_taken (min)</th>\n",
       "      <th>order_day</th>\n",
       "      <th>order_month</th>\n",
       "      <th>order_hours</th>\n",
       "      <th>order_min</th>\n",
       "      <th>picked_hours</th>\n",
       "      <th>picked_min</th>\n",
       "    </tr>\n",
       "  </thead>\n",
       "  <tbody>\n",
       "    <tr>\n",
       "      <th>0</th>\n",
       "      <td>36.0</td>\n",
       "      <td>4.2</td>\n",
       "      <td>30.327968</td>\n",
       "      <td>78.046106</td>\n",
       "      <td>30.397968</td>\n",
       "      <td>78.116106</td>\n",
       "      <td>Fog</td>\n",
       "      <td>Jam</td>\n",
       "      <td>2</td>\n",
       "      <td>Snack</td>\n",
       "      <td>...</td>\n",
       "      <td>3.0</td>\n",
       "      <td>No</td>\n",
       "      <td>Metropolitian</td>\n",
       "      <td>46</td>\n",
       "      <td>12</td>\n",
       "      <td>2</td>\n",
       "      <td>21.0</td>\n",
       "      <td>55.0</td>\n",
       "      <td>22.0</td>\n",
       "      <td>10.0</td>\n",
       "    </tr>\n",
       "    <tr>\n",
       "      <th>1</th>\n",
       "      <td>21.0</td>\n",
       "      <td>4.7</td>\n",
       "      <td>10.003064</td>\n",
       "      <td>76.307589</td>\n",
       "      <td>10.043064</td>\n",
       "      <td>76.347589</td>\n",
       "      <td>Stormy</td>\n",
       "      <td>High</td>\n",
       "      <td>1</td>\n",
       "      <td>Meal</td>\n",
       "      <td>...</td>\n",
       "      <td>1.0</td>\n",
       "      <td>No</td>\n",
       "      <td>Metropolitian</td>\n",
       "      <td>23</td>\n",
       "      <td>13</td>\n",
       "      <td>2</td>\n",
       "      <td>14.0</td>\n",
       "      <td>55.0</td>\n",
       "      <td>15.0</td>\n",
       "      <td>5.0</td>\n",
       "    </tr>\n",
       "    <tr>\n",
       "      <th>2</th>\n",
       "      <td>23.0</td>\n",
       "      <td>4.7</td>\n",
       "      <td>18.562450</td>\n",
       "      <td>73.916619</td>\n",
       "      <td>18.652450</td>\n",
       "      <td>74.006619</td>\n",
       "      <td>Sandstorms</td>\n",
       "      <td>Medium</td>\n",
       "      <td>1</td>\n",
       "      <td>Drinks</td>\n",
       "      <td>...</td>\n",
       "      <td>1.0</td>\n",
       "      <td>No</td>\n",
       "      <td>Metropolitian</td>\n",
       "      <td>21</td>\n",
       "      <td>4</td>\n",
       "      <td>3</td>\n",
       "      <td>17.0</td>\n",
       "      <td>30.0</td>\n",
       "      <td>17.0</td>\n",
       "      <td>40.0</td>\n",
       "    </tr>\n",
       "    <tr>\n",
       "      <th>3</th>\n",
       "      <td>34.0</td>\n",
       "      <td>4.3</td>\n",
       "      <td>30.899584</td>\n",
       "      <td>75.809346</td>\n",
       "      <td>30.919584</td>\n",
       "      <td>75.829346</td>\n",
       "      <td>Sandstorms</td>\n",
       "      <td>Low</td>\n",
       "      <td>0</td>\n",
       "      <td>Buffet</td>\n",
       "      <td>...</td>\n",
       "      <td>0.0</td>\n",
       "      <td>No</td>\n",
       "      <td>Metropolitian</td>\n",
       "      <td>20</td>\n",
       "      <td>13</td>\n",
       "      <td>2</td>\n",
       "      <td>9.0</td>\n",
       "      <td>20.0</td>\n",
       "      <td>9.0</td>\n",
       "      <td>30.0</td>\n",
       "    </tr>\n",
       "    <tr>\n",
       "      <th>4</th>\n",
       "      <td>24.0</td>\n",
       "      <td>4.7</td>\n",
       "      <td>26.463504</td>\n",
       "      <td>80.372929</td>\n",
       "      <td>26.593504</td>\n",
       "      <td>80.502929</td>\n",
       "      <td>Fog</td>\n",
       "      <td>Jam</td>\n",
       "      <td>1</td>\n",
       "      <td>Snack</td>\n",
       "      <td>...</td>\n",
       "      <td>1.0</td>\n",
       "      <td>No</td>\n",
       "      <td>Metropolitian</td>\n",
       "      <td>41</td>\n",
       "      <td>14</td>\n",
       "      <td>2</td>\n",
       "      <td>19.0</td>\n",
       "      <td>50.0</td>\n",
       "      <td>20.0</td>\n",
       "      <td>5.0</td>\n",
       "    </tr>\n",
       "    <tr>\n",
       "      <th>...</th>\n",
       "      <td>...</td>\n",
       "      <td>...</td>\n",
       "      <td>...</td>\n",
       "      <td>...</td>\n",
       "      <td>...</td>\n",
       "      <td>...</td>\n",
       "      <td>...</td>\n",
       "      <td>...</td>\n",
       "      <td>...</td>\n",
       "      <td>...</td>\n",
       "      <td>...</td>\n",
       "      <td>...</td>\n",
       "      <td>...</td>\n",
       "      <td>...</td>\n",
       "      <td>...</td>\n",
       "      <td>...</td>\n",
       "      <td>...</td>\n",
       "      <td>...</td>\n",
       "      <td>...</td>\n",
       "      <td>...</td>\n",
       "      <td>...</td>\n",
       "    </tr>\n",
       "    <tr>\n",
       "      <th>45579</th>\n",
       "      <td>30.0</td>\n",
       "      <td>4.8</td>\n",
       "      <td>26.902328</td>\n",
       "      <td>75.794257</td>\n",
       "      <td>26.912328</td>\n",
       "      <td>75.804257</td>\n",
       "      <td>Windy</td>\n",
       "      <td>High</td>\n",
       "      <td>1</td>\n",
       "      <td>Meal</td>\n",
       "      <td>...</td>\n",
       "      <td>0.0</td>\n",
       "      <td>No</td>\n",
       "      <td>Metropolitian</td>\n",
       "      <td>32</td>\n",
       "      <td>24</td>\n",
       "      <td>3</td>\n",
       "      <td>11.0</td>\n",
       "      <td>35.0</td>\n",
       "      <td>11.0</td>\n",
       "      <td>45.0</td>\n",
       "    </tr>\n",
       "    <tr>\n",
       "      <th>45580</th>\n",
       "      <td>21.0</td>\n",
       "      <td>4.6</td>\n",
       "      <td>0.000000</td>\n",
       "      <td>0.000000</td>\n",
       "      <td>0.070000</td>\n",
       "      <td>0.070000</td>\n",
       "      <td>Windy</td>\n",
       "      <td>Jam</td>\n",
       "      <td>0</td>\n",
       "      <td>Buffet</td>\n",
       "      <td>...</td>\n",
       "      <td>1.0</td>\n",
       "      <td>No</td>\n",
       "      <td>Metropolitian</td>\n",
       "      <td>36</td>\n",
       "      <td>16</td>\n",
       "      <td>2</td>\n",
       "      <td>19.0</td>\n",
       "      <td>55.0</td>\n",
       "      <td>20.0</td>\n",
       "      <td>10.0</td>\n",
       "    </tr>\n",
       "    <tr>\n",
       "      <th>45581</th>\n",
       "      <td>30.0</td>\n",
       "      <td>4.9</td>\n",
       "      <td>13.022394</td>\n",
       "      <td>80.242439</td>\n",
       "      <td>13.052394</td>\n",
       "      <td>80.272439</td>\n",
       "      <td>Cloudy</td>\n",
       "      <td>Low</td>\n",
       "      <td>1</td>\n",
       "      <td>Drinks</td>\n",
       "      <td>...</td>\n",
       "      <td>0.0</td>\n",
       "      <td>No</td>\n",
       "      <td>Metropolitian</td>\n",
       "      <td>16</td>\n",
       "      <td>11</td>\n",
       "      <td>3</td>\n",
       "      <td>23.0</td>\n",
       "      <td>50.0</td>\n",
       "      <td>24.0</td>\n",
       "      <td>5.0</td>\n",
       "    </tr>\n",
       "    <tr>\n",
       "      <th>45582</th>\n",
       "      <td>20.0</td>\n",
       "      <td>4.7</td>\n",
       "      <td>11.001753</td>\n",
       "      <td>76.986241</td>\n",
       "      <td>11.041753</td>\n",
       "      <td>77.026241</td>\n",
       "      <td>Cloudy</td>\n",
       "      <td>High</td>\n",
       "      <td>0</td>\n",
       "      <td>Snack</td>\n",
       "      <td>...</td>\n",
       "      <td>1.0</td>\n",
       "      <td>No</td>\n",
       "      <td>Metropolitian</td>\n",
       "      <td>26</td>\n",
       "      <td>7</td>\n",
       "      <td>3</td>\n",
       "      <td>13.0</td>\n",
       "      <td>35.0</td>\n",
       "      <td>13.0</td>\n",
       "      <td>40.0</td>\n",
       "    </tr>\n",
       "    <tr>\n",
       "      <th>45583</th>\n",
       "      <td>23.0</td>\n",
       "      <td>4.9</td>\n",
       "      <td>23.351058</td>\n",
       "      <td>85.325731</td>\n",
       "      <td>23.431058</td>\n",
       "      <td>85.405731</td>\n",
       "      <td>Fog</td>\n",
       "      <td>Medium</td>\n",
       "      <td>2</td>\n",
       "      <td>Snack</td>\n",
       "      <td>...</td>\n",
       "      <td>1.0</td>\n",
       "      <td>No</td>\n",
       "      <td>Metropolitian</td>\n",
       "      <td>36</td>\n",
       "      <td>2</td>\n",
       "      <td>3</td>\n",
       "      <td>17.0</td>\n",
       "      <td>10.0</td>\n",
       "      <td>17.0</td>\n",
       "      <td>15.0</td>\n",
       "    </tr>\n",
       "  </tbody>\n",
       "</table>\n",
       "<p>45584 rows × 21 columns</p>\n",
       "</div>"
      ],
      "text/plain": [
       "       Delivery_person_Age  Delivery_person_Ratings  Restaurant_latitude   \n",
       "0                     36.0                      4.2            30.327968  \\\n",
       "1                     21.0                      4.7            10.003064   \n",
       "2                     23.0                      4.7            18.562450   \n",
       "3                     34.0                      4.3            30.899584   \n",
       "4                     24.0                      4.7            26.463504   \n",
       "...                    ...                      ...                  ...   \n",
       "45579                 30.0                      4.8            26.902328   \n",
       "45580                 21.0                      4.6             0.000000   \n",
       "45581                 30.0                      4.9            13.022394   \n",
       "45582                 20.0                      4.7            11.001753   \n",
       "45583                 23.0                      4.9            23.351058   \n",
       "\n",
       "       Restaurant_longitude  Delivery_location_latitude   \n",
       "0                 78.046106                   30.397968  \\\n",
       "1                 76.307589                   10.043064   \n",
       "2                 73.916619                   18.652450   \n",
       "3                 75.809346                   30.919584   \n",
       "4                 80.372929                   26.593504   \n",
       "...                     ...                         ...   \n",
       "45579             75.794257                   26.912328   \n",
       "45580              0.000000                    0.070000   \n",
       "45581             80.242439                   13.052394   \n",
       "45582             76.986241                   11.041753   \n",
       "45583             85.325731                   23.431058   \n",
       "\n",
       "       Delivery_location_longitude Weather_conditions Road_traffic_density   \n",
       "0                        78.116106                Fog                  Jam  \\\n",
       "1                        76.347589             Stormy                 High   \n",
       "2                        74.006619         Sandstorms               Medium   \n",
       "3                        75.829346         Sandstorms                  Low   \n",
       "4                        80.502929                Fog                  Jam   \n",
       "...                            ...                ...                  ...   \n",
       "45579                    75.804257              Windy                 High   \n",
       "45580                     0.070000              Windy                  Jam   \n",
       "45581                    80.272439             Cloudy                  Low   \n",
       "45582                    77.026241             Cloudy                 High   \n",
       "45583                    85.405731                Fog               Medium   \n",
       "\n",
       "       Vehicle_condition Type_of_order  ... multiple_deliveries Festival   \n",
       "0                      2         Snack  ...                 3.0       No  \\\n",
       "1                      1          Meal  ...                 1.0       No   \n",
       "2                      1        Drinks  ...                 1.0       No   \n",
       "3                      0        Buffet  ...                 0.0       No   \n",
       "4                      1         Snack  ...                 1.0       No   \n",
       "...                  ...           ...  ...                 ...      ...   \n",
       "45579                  1          Meal  ...                 0.0       No   \n",
       "45580                  0        Buffet  ...                 1.0       No   \n",
       "45581                  1        Drinks  ...                 0.0       No   \n",
       "45582                  0         Snack  ...                 1.0       No   \n",
       "45583                  2         Snack  ...                 1.0       No   \n",
       "\n",
       "                City Time_taken (min)  order_day  order_month  order_hours   \n",
       "0      Metropolitian               46         12            2         21.0  \\\n",
       "1      Metropolitian               23         13            2         14.0   \n",
       "2      Metropolitian               21          4            3         17.0   \n",
       "3      Metropolitian               20         13            2          9.0   \n",
       "4      Metropolitian               41         14            2         19.0   \n",
       "...              ...              ...        ...          ...          ...   \n",
       "45579  Metropolitian               32         24            3         11.0   \n",
       "45580  Metropolitian               36         16            2         19.0   \n",
       "45581  Metropolitian               16         11            3         23.0   \n",
       "45582  Metropolitian               26          7            3         13.0   \n",
       "45583  Metropolitian               36          2            3         17.0   \n",
       "\n",
       "      order_min  picked_hours  picked_min  \n",
       "0          55.0          22.0        10.0  \n",
       "1          55.0          15.0         5.0  \n",
       "2          30.0          17.0        40.0  \n",
       "3          20.0           9.0        30.0  \n",
       "4          50.0          20.0         5.0  \n",
       "...         ...           ...         ...  \n",
       "45579      35.0          11.0        45.0  \n",
       "45580      55.0          20.0        10.0  \n",
       "45581      50.0          24.0         5.0  \n",
       "45582      35.0          13.0        40.0  \n",
       "45583      10.0          17.0        15.0  \n",
       "\n",
       "[45584 rows x 21 columns]"
      ]
     },
     "execution_count": 61,
     "metadata": {},
     "output_type": "execute_result"
    }
   ],
   "source": [
    "df"
   ]
  },
  {
   "cell_type": "code",
   "execution_count": 62,
   "metadata": {},
   "outputs": [],
   "source": [
    "import seaborn as sns\n"
   ]
  },
  {
   "cell_type": "code",
   "execution_count": null,
   "metadata": {},
   "outputs": [],
   "source": []
  }
 ],
 "metadata": {
  "kernelspec": {
   "display_name": "Python 3",
   "language": "python",
   "name": "python3"
  },
  "language_info": {
   "codemirror_mode": {
    "name": "ipython",
    "version": 3
   },
   "file_extension": ".py",
   "mimetype": "text/x-python",
   "name": "python",
   "nbconvert_exporter": "python",
   "pygments_lexer": "ipython3",
   "version": "3.8.0"
  },
  "orig_nbformat": 4
 },
 "nbformat": 4,
 "nbformat_minor": 2
}
